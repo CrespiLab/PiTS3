{
 "cells": [
  {
   "cell_type": "code",
   "execution_count": 1,
   "id": "2c2a20dc-9f0b-43f7-8603-2d97818412a1",
   "metadata": {},
   "outputs": [],
   "source": [
    "import os, sys, re, argparse, pdb, glob, pprint, json\n",
    "import TS_pipe as tsp\n",
    "import pandas as pd\n",
    "f***REMOVED*** rdkit import Chem\n",
    "f***REMOVED*** rdkit.Chem import rdmolfiles\n",
    "f***REMOVED*** openbabel import pybel\n",
    "pd.options.display.max_rows = 999\n",
    "pd.set_option('max_colwidth', 200)\n",
    "json_file = '../results/nbds_b3lyp.json'\n",
    "df = pd.read_json(json_file, orient='index')\n",
    "df = df.reset_index(names='Molecule')"
   ]
  },
  {
   "cell_type": "code",
   "execution_count": 2,
   "id": "8d12fa75-5b88-4c28-8d17-d3dc25aeb2e8",
   "metadata": {},
   "outputs": [
    {
     "data": {
      "text/html": [
       "<div>\n",
       "<style scoped>\n",
       "    .dataframe tbody tr th:only-of-type {\n",
       "        vertical-align: middle;\n",
       "    }\n",
       "\n",
       "    .dataframe tbody tr th {\n",
       "        vertical-align: top;\n",
       "    }\n",
       "\n",
       "    .dataframe thead th {\n",
       "        text-align: right;\n",
       "    }\n",
       "</style>\n",
       "<table border=\"1\" class=\"dataframe\">\n",
       "  <thead>\n",
       "    <tr style=\"text-align: right;\">\n",
       "      <th></th>\n",
       "      <th>Molecule</th>\n",
       "      <th>TS mode</th>\n",
       "      <th>key parameter atoms</th>\n",
       "      <th>TS guess key parameter</th>\n",
       "      <th>TS guess key value</th>\n",
       "      <th>pysis input conformers number</th>\n",
       "      <th>pysis output conformers</th>\n",
       "      <th>pysis output conformers number</th>\n",
       "      <th>pysis conformers properties</th>\n",
       "      <th>orca input conformers number</th>\n",
       "      <th>orca output conformers</th>\n",
       "      <th>orca output conformers number</th>\n",
       "      <th>orca conformers properties</th>\n",
       "    </tr>\n",
       "  </thead>\n",
       "  <tbody>\n",
       "    <tr>\n",
       "      <th>0</th>\n",
       "      <td>C12H9NS</td>\n",
       "      <td>C1C=CCC=C1</td>\n",
       "      <td>[3, 2, 1, 13, 10, 4]</td>\n",
       "      <td>distances C-C</td>\n",
       "      <td>[2.257664591553089, 1.590449510468758]</td>\n",
       "      <td>2</td>\n",
       "      <td>[C12H9NS/8_C12H9NS_filtered_TS_irc/cregened_conformers_1/ts_final_geometry.xyz, C12H9NS/8_C12H9NS_filtered_TS_irc/cregened_conformers_0/ts_final_geometry.xyz]</td>\n",
       "      <td>2</td>\n",
       "      <td>{'C12H9NS/8_C12H9NS_filtered_TS_irc/cregened_conformers_1/ts_final_geometry.xyz': {'TS conformer key value': [2.259098276493342, 1.5877852151031822]}, 'C12H9NS/8_C12H9NS_filtered_TS_irc/cregened_c...</td>\n",
       "      <td>2</td>\n",
       "      <td>[C12H9NS/9_C12H9NS_orca/cregened_conformers_0_reopt, C12H9NS/9_C12H9NS_orca/cregened_conformers_1_reopt]</td>\n",
       "      <td>2</td>\n",
       "      <td>{'C12H9NS/9_C12H9NS_orca/cregened_conformers_0_reopt': {'orca TS Gibbs energy': -915.09535512, 'orca TS E corr': 0.1326328, 'orca TS def2-tzvp full energy': -915.227988313054, 'orca reac1 Gibbs en...</td>\n",
       "    </tr>\n",
       "  </tbody>\n",
       "</table>\n",
       "</div>"
      ],
      "text/plain": [
       "  Molecule     TS mode   key parameter atoms TS guess key parameter  \\\n",
       "0  C12H9NS  C1C=CCC=C1  [3, 2, 1, 13, 10, 4]          distances C-C   \n",
       "\n",
       "                       TS guess key value  pysis input conformers number  \\\n",
       "0  [2.257664591553089, 1.590449510468758]                              2   \n",
       "\n",
       "                                                                                                                                          pysis output conformers  \\\n",
       "0  [C12H9NS/8_C12H9NS_filtered_TS_irc/cregened_conformers_1/ts_final_geometry.xyz, C12H9NS/8_C12H9NS_filtered_TS_irc/cregened_conformers_0/ts_final_geometry.xyz]   \n",
       "\n",
       "   pysis output conformers number  \\\n",
       "0                               2   \n",
       "\n",
       "                                                                                                                                                                               pysis conformers properties  \\\n",
       "0  {'C12H9NS/8_C12H9NS_filtered_TS_irc/cregened_conformers_1/ts_final_geometry.xyz': {'TS conformer key value': [2.259098276493342, 1.5877852151031822]}, 'C12H9NS/8_C12H9NS_filtered_TS_irc/cregened_c...   \n",
       "\n",
       "   orca input conformers number  \\\n",
       "0                             2   \n",
       "\n",
       "                                                                                     orca output conformers  \\\n",
       "0  [C12H9NS/9_C12H9NS_orca/cregened_conformers_0_reopt, C12H9NS/9_C12H9NS_orca/cregened_conformers_1_reopt]   \n",
       "\n",
       "   orca output conformers number  \\\n",
       "0                              2   \n",
       "\n",
       "                                                                                                                                                                                orca conformers properties  \n",
       "0  {'C12H9NS/9_C12H9NS_orca/cregened_conformers_0_reopt': {'orca TS Gibbs energy': -915.09535512, 'orca TS E corr': 0.1326328, 'orca TS def2-tzvp full energy': -915.227988313054, 'orca reac1 Gibbs en...  "
      ]
     },
     "execution_count": 2,
     "metadata": {},
     "output_type": "execute_result"
    }
   ],
   "source": [
    "#df = df[df['TS guess key value'] < 160.0]\n",
    "#df = df.reset_index()\n",
    "df"
   ]
  },
  {
   "cell_type": "code",
   "execution_count": 3,
   "id": "3c62daf8-ea59-44d7-ac45-5a80457e01da",
   "metadata": {},
   "outputs": [
    {
     "name": "stdout",
     "output_type": "stream",
     "text": [
      "Structure with  [2.482660459891378, 2.479064862441062] selected as metastable\n",
      "Conformer C12H9NS/9_C12H9NS_orca/cregened_conformers_1_reopt is missing\n",
      "'orca reac1 conformer key value'\n",
      "Conformers generated by ORCA stage: 2\n",
      "Failed ORCA jobs: 1\n",
      "Failed ORCA list: ['C12H9NS/9_C12H9NS_orca/cregened_conformers_1_reopt']\n",
      "{'C12H9NS': {'Closed energies': [-915.167393174497],\n",
      "             'TS energies': [-915.095355513054],\n",
      "             'closed enthalpy': [-915.11855337],\n",
      "             'open enthalpy': [-915.07215705]}}\n",
      "1\n"
     ]
    }
   ],
   "source": [
    "failed_orca_count = 0\n",
    "failed_orca_list = []\n",
    "conformers_by_orca_count = df['pysis output conformers number'].sum()\n",
    "conformers_to_orca_count = df['orca input conformers number'].sum()\n",
    "energies_dict = {}\n",
    "for i in df.index:\n",
    "    closed_Es = []\n",
    "    TS_Es = []\n",
    "    closed_Hs = []\n",
    "    open_Hs = []\n",
    "    for j, conf in enumerate(df.loc[i]['orca output conformers']):\n",
    "        try:\n",
    "            if not list(df.loc[i]['orca conformers properties'][conf].values()):\n",
    "                failed_orca_count += 1\n",
    "                failed_orca_list.append(conf)\n",
    "            if all(df.loc[i]['orca conformers properties'][conf]['orca reac1 conformer key value'][j] > 1.8 for j in [0,1]):\n",
    "                closed_energy = df.loc[i]['orca conformers properties'][conf]['orca reac1 def2-tzvp full energy'] + df.loc[i]['orca conformers properties'][conf]['orca reac1 E corr']\n",
    "                closed_H = df.loc[i]['orca conformers properties'][conf]['orca reac1 enthalpy']\n",
    "                open_H = df.loc[i]['orca conformers properties'][conf]['orca reac2 enthalpy']\n",
    "                print('Structure with ', df.loc[i]['orca conformers properties'][conf]['orca reac1 conformer key value'], 'selected as metastable')\n",
    "            else:\n",
    "                closed_energy = df.loc[i]['orca conformers properties'][conf]['orca reac2 def2-tzvp full energy'] + df.loc[i]['orca conformers properties'][conf]['orca reac2 E corr']\n",
    "                closed_H = df.loc[i]['orca conformers properties'][conf]['orca reac2 enthalpy']\n",
    "                open_H = df.loc[i]['orca conformers properties'][conf]['orca reac1 enthalpy']\n",
    "                print('Structure with ', df.loc[i]['orca conformers properties'][conf]['orca reac2 conformer key value'], 'selected as metastable')\n",
    "            TS_energy =  df.loc[i]['orca conformers properties'][conf]['orca TS def2-tzvp full energy'] + df.loc[i]['orca conformers properties'][conf]['orca TS E corr']\n",
    "        except KeyError as e:\n",
    "            print(f'Conformer {conf} is missing')\n",
    "            print(e)\n",
    "            continue\n",
    "        closed_Es.append(closed_energy)\n",
    "        TS_Es.append(TS_energy)\n",
    "        closed_Hs.append(closed_H)\n",
    "        open_Hs.append(open_H)\n",
    "    if not ( closed_Es and TS_Es ):\n",
    "        continue\n",
    "    energies_dict[f\"{df.loc[i]['Molecule']}\"] = {}\n",
    "    energies_dict[f\"{df.loc[i]['Molecule']}\"]['Closed energies'] = closed_Es\n",
    "    energies_dict[f\"{df.loc[i]['Molecule']}\"]['TS energies'] = TS_Es\n",
    "    energies_dict[f\"{df.loc[i]['Molecule']}\"]['open enthalpy'] = open_Hs\n",
    "    energies_dict[f\"{df.loc[i]['Molecule']}\"]['closed enthalpy'] = closed_Hs\n",
    "print(f'Conformers generated by ORCA stage: {conformers_to_orca_count}')\n",
    "print(f'Failed ORCA jobs: {failed_orca_count}')\n",
    "print(f'Failed ORCA list:', failed_orca_list)\n",
    "pprint.pprint(energies_dict)\n",
    "print(len(energies_dict.keys()))\n",
    "\n",
    "with open('nbs_b3lyp_final_energies.json', 'w') as json_file:\n",
    "    json.dump(energies_dict, json_file, indent=4)\n",
    "\n"
   ]
  },
  {
   "cell_type": "code",
   "execution_count": 4,
   "id": "d0550317-d934-4c73-95ca-44d6b0c2dd7d",
   "metadata": {},
   "outputs": [
    {
     "data": {
      "text/plain": [
       "'C:\\\\Users\\\\***REMOVED***pe672\\\\Documents\\\\GitHub\\\\TS_pipeline\\\\src'"
      ]
     },
     "execution_count": 4,
     "metadata": {},
     "output_type": "execute_result"
    }
   ],
   "source": [
    "os.getcwd()"
   ]
  }
 ],
 "metadata": {
  "kernelspec": {
   "display_name": "Python 3 (ipykernel)",
   "language": "python",
   "name": "python3"
  },
  "language_info": {
   "codemirror_mode": {
    "name": "ipython",
    "version": 3
   },
   "file_extension": ".py",
   "mimetype": "text/x-python",
   "name": "python",
   "nbconvert_exporter": "python",
   "pygments_lexer": "ipython3",
   "version": "3.10.12"
  }
 },
 "nbformat": 4,
 "nbformat_minor": 5
}
